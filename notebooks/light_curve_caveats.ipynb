{
 "cells": [
  {
   "cell_type": "markdown",
   "id": "80aa0df1-cb96-46c4-9096-a870b668bc6d",
   "metadata": {},
   "source": [
    "# Caveats and specific cases\n",
    "\n",
    "Here we describe some particular cases you might find when using the light curves in KBonus-BKG."
   ]
  },
  {
   "cell_type": "code",
   "execution_count": 15,
   "id": "2afe414d-d354-4427-80f8-844e845ef9bc",
   "metadata": {},
   "outputs": [],
   "source": [
    "# basic imports\n",
    "import numpy as np\n",
    "import matplotlib.pyplot as plt\n",
    "\n",
    "import lightkurve as lk\n",
    "from astropy.table import Table\n",
    "from astropy.io import fits"
   ]
  },
  {
   "cell_type": "markdown",
   "id": "a5ea2efa-9b57-4898-8965-45dd74bb0efb",
   "metadata": {},
   "source": [
    "## 1. Sources with partial data\n",
    "\n",
    "Some sources in KBonus-BKG were extracted with partial data, i.e. using pixels in the wing of the PSF, this is due to sources falling out of the edge of the TPF or because of saturated pixel rejection removed the central pixels of a bright source. \n",
    "The light curves provide the `psffrac` metric as the fraction of the PSF on the TPF used for photometry. This value is close to 1 for sources with full coverage and close to 0 for sources with partial data. LightKurve (v2.5.0) will show a warning when a source has `psffrac < 0.6` and also for sources brighter than $K_{p} < 12$ that produced saturated pixels that were avoided for model fitting."
   ]
  },
  {
   "cell_type": "code",
   "execution_count": 2,
   "id": "09399195-7fa5-4c24-8ade-d9b941f97f52",
   "metadata": {},
   "outputs": [
    {
     "name": "stderr",
     "output_type": "stream",
     "text": [
      "/Users/jorgemarpa/Work/public_repos/lightkurve/src/lightkurve/search.py:480: LightkurveWarning: Warning: 19 files available to download. Only the first file has been downloaded. Please use `download_all()` or specify additional criteria (e.g. quarter, campaign, or sector) to limit your search.\n",
      "  warnings.warn(\n",
      "Kepler magnitude is bright (less than 12), indicating the target is saturated. KBONUS-BKG data is invalid for saturated targets.\n",
      "PSF Fraction is low, indicating not all of the flux is captured in the PSF model. This data may be unreliable.\n"
     ]
    }
   ],
   "source": [
    "lc = lk.search_lightcurve(\"Kepler-10\", mission=\"Kepler\", author=\"KBONUS-BKG\").download()"
   ]
  },
  {
   "cell_type": "code",
   "execution_count": 3,
   "id": "89d38c34-b7fc-449a-aacf-83bd1264b33e",
   "metadata": {},
   "outputs": [
    {
     "data": {
      "text/plain": [
       "10.9610004425049"
      ]
     },
     "execution_count": 3,
     "metadata": {},
     "output_type": "execute_result"
    }
   ],
   "source": [
    "lc.meta[\"KEPMAG\"]"
   ]
  },
  {
   "cell_type": "code",
   "execution_count": 4,
   "id": "906c5393-3cda-4e0c-8230-a7ee9fdc0890",
   "metadata": {},
   "outputs": [
    {
     "name": "stderr",
     "output_type": "stream",
     "text": [
      "Kepler magnitude is bright (less than 12), indicating the target is saturated. KBONUS-BKG data is invalid for saturated targets.\n",
      "PSF Fraction is low, indicating not all of the flux is captured in the PSF model. This data may be unreliable.\n"
     ]
    },
    {
     "data": {
      "text/html": [
       "<div><i>KeplerLightCurve length=4081 LABEL=&quot;KIC 11904151&quot; QUARTER=2 AUTHOR=KBONUS-BKG FLUX_ORIGIN=flux</i>\n",
       "<table id=\"table5117676416\" class=\"table-striped table-bordered table-condensed\">\n",
       "<thead><tr><th>time</th><th>flux</th><th>flux_err</th><th>cadenceno</th><th>sap_flux</th><th>centroid_col</th><th>sap_flux_err</th><th>centroid_column</th><th>centroid_row</th><th>sap_quality</th><th>sap_bkg</th><th>red_chi2</th><th>psf_flux_nova</th><th>psf_flux_err_nova</th></tr></thead>\n",
       "<thead><tr><th></th><th>electron / s</th><th>electron / s</th><th></th><th>electron / s</th><th>pix</th><th>electron / s</th><th>pix</th><th>pix</th><th></th><th></th><th></th><th>electron / s</th><th>electron / s</th></tr></thead>\n",
       "<thead><tr><th>Time</th><th>float64</th><th>float64</th><th>int32</th><th>float64</th><th>float64</th><th>float64</th><th>float64</th><th>float64</th><th>int32</th><th>float64</th><th>float64</th><th>float64</th><th>float64</th></tr></thead>\n",
       "<tr><td>169.51974208513275</td><td>296901.4407917318</td><td>35.48463688277593</td><td>2965</td><td>55391.66015625</td><td>655.449604353118</td><td>7.411260604858398</td><td>655.449604353118</td><td>250.63795690575847</td><td>256</td><td>0.0</td><td>245983.1902685441</td><td>300947.70202336845</td><td>36.107478828668675</td></tr>\n",
       "<tr><td>...</td><td>...</td><td>...</td><td>...</td><td>...</td><td>...</td><td>...</td><td>...</td><td>...</td><td>...</td><td>...</td><td>...</td><td>...</td><td>...</td></tr>\n",
       "<tr><td>258.4670207872987</td><td>302200.2129394214</td><td>37.869976908909734</td><td>7318</td><td>52152.3203125</td><td>655.4035519418761</td><td>7.2654314041137695</td><td>655.4035519418761</td><td>250.33718467545543</td><td>0</td><td>0.0</td><td>305202.6464676686</td><td>278168.5981922249</td><td>35.1327248641398</td></tr>\n",
       "</table></div>"
      ],
      "text/plain": [
       "<KeplerLightCurve length=4081 LABEL=\"KIC 11904151\" QUARTER=2 AUTHOR=KBONUS-BKG FLUX_ORIGIN=flux>\n",
       "       time               flux            flux_err      ...      red_chi2       psf_flux_nova    psf_flux_err_nova \n",
       "                      electron / s      electron / s    ...                      electron / s       electron / s   \n",
       "       Time             float64           float64       ...      float64           float64            float64      \n",
       "------------------ ----------------- ------------------ ... ----------------- ------------------ ------------------\n",
       "169.51974208513275 296901.4407917318  35.48463688277593 ... 245983.1902685441 300947.70202336845 36.107478828668675\n",
       "               ...               ...                ... ...               ...                ...                ...\n",
       " 258.4670207872987 302200.2129394214 37.869976908909734 ... 305202.6464676686  278168.5981922249   35.1327248641398"
      ]
     },
     "execution_count": 4,
     "metadata": {},
     "output_type": "execute_result"
    }
   ],
   "source": [
    "lcq = lk.read(lc.filename, quarter=2)\n",
    "lcq"
   ]
  },
  {
   "cell_type": "code",
   "execution_count": 5,
   "id": "f420c770-c30a-4e86-995e-e1b3c4ac35f4",
   "metadata": {},
   "outputs": [
    {
     "name": "stdout",
     "output_type": "stream",
     "text": [
      "Quarter 2 \tPSFFRAC = 0.1763822145682909\n"
     ]
    }
   ],
   "source": [
    "print(f\"Quarter {lcq.quarter} \\tPSFFRAC = {lcq.psffrac}\")"
   ]
  },
  {
   "cell_type": "markdown",
   "id": "c54605bd-f16e-45f6-a319-3132b4e85711",
   "metadata": {},
   "source": [
    "Sources extracted with partial data, due to pixel saturation or off TPF, may result in unreliable photometry and light curves. PSF photometry could be noisier, while aperture photometry will be partial."
   ]
  },
  {
   "cell_type": "markdown",
   "id": "a79bff1a-9666-449c-ab1e-3089b9524b8c",
   "metadata": {},
   "source": [
    "## 2. Empty PSF photometry\n",
    "\n",
    "As described in [Martinez-Palomera et al. 2023](https://ui.adsabs.harvard.edu/abs/2023arXiv231017733M/abstract), the PSF is fitted with a linear model and it does not have constraints in the predicted values rather than a Normal prior distribution around the Gaia DR3 flux value. This could result in predicted negative fluxes. To mitigate this issue the extraction pipeline iterated up to 3 times reducing the prior width to enforce positive flux values. But this does not guarantee good results and some sources can still get predicted negative fluxes. \n",
    "This happens typically for highly blended sources or targets near saturated pixels. \n",
    "In most cases these sources were removed from the extracted catalog, but some had successful aperture photometry estimation. We kept those.\n",
    "This results in some sources having the PSF flux columns empty and the aperture flux complum populated.\n",
    "Here's an example"
   ]
  },
  {
   "cell_type": "code",
   "execution_count": 68,
   "id": "ccf111f2-9950-42d8-bf39-37d8d4989073",
   "metadata": {},
   "outputs": [
    {
     "name": "stdout",
     "output_type": "stream",
     "text": [
      "Filename: /Users/jorgemarpa/.astropy/cache/download/url/0159dff9ad88f67f55242999c03c282a/contents\n",
      "No.    Name      Ver    Type      Cards   Dimensions   Format\n",
      "  0  PRIMARY       1 PrimaryHDU      48   ()      \n",
      "  1  LIGHTCURVE_STITCHED    1 BinTableHDU     40   65277R x 11C   [D, J, K, D, D, D, D, D, D, J, J]   \n",
      "  2  LIGHTCURVE_Q0    1 BinTableHDU     63   469R x 13C   [J, D, D, D, D, D, D, D, J, D, D, D, D]   \n",
      "  3  APERTURE_Q0    1 ImageHDU        10   (17, 94)   uint8   \n",
      "  4  LIGHTCURVE_Q1    1 BinTableHDU     63   1624R x 13C   [J, D, D, D, D, D, D, D, J, D, D, D, D]   \n",
      "  5  APERTURE_Q1    1 ImageHDU        10   (14, 139)   uint8   \n",
      "  6  LIGHTCURVE_Q2    1 BinTableHDU     63   4081R x 13C   [J, D, D, D, D, D, D, D, J, D, D, D, D]   \n",
      "  7  APERTURE_Q2    1 ImageHDU        10   (14, 184)   uint8   \n",
      "  8  LIGHTCURVE_Q3    1 BinTableHDU     63   4135R x 13C   [J, D, D, D, D, D, D, D, J, D, D, D, D]   \n",
      "  9  APERTURE_Q3    1 ImageHDU        10   (13, 135)   uint8   \n",
      " 10  LIGHTCURVE_Q4    1 BinTableHDU     63   4110R x 13C   [J, D, D, D, D, D, D, D, J, D, D, D, D]   \n",
      " 11  APERTURE_Q4    1 ImageHDU        10   (12, 140)   uint8   \n",
      " 12  LIGHTCURVE_Q5    1 BinTableHDU     63   4486R x 13C   [J, D, D, D, D, D, D, D, J, D, D, D, D]   \n",
      " 13  APERTURE_Q5    1 ImageHDU        10   (100, 157)   uint8   \n",
      " 14  LIGHTCURVE_Q6    1 BinTableHDU     63   4272R x 13C   [J, D, D, D, D, D, D, D, J, D, D, D, D]   \n",
      " 15  APERTURE_Q6    1 ImageHDU        10   (12, 140)   uint8   \n",
      " 16  LIGHTCURVE_Q7    1 BinTableHDU     63   4227R x 13C   [J, D, D, D, D, D, D, D, J, D, D, D, D]   \n",
      " 17  APERTURE_Q7    1 ImageHDU        10   (13, 155)   uint8   \n",
      " 18  LIGHTCURVE_Q8    1 BinTableHDU     63   3107R x 13C   [J, D, D, D, D, D, D, D, J, D, D, D, D]   \n",
      " 19  APERTURE_Q8    1 ImageHDU        10   (12, 140)   uint8   \n",
      " 20  LIGHTCURVE_Q9    1 BinTableHDU     63   4654R x 13C   [J, D, D, D, D, D, D, D, J, D, D, D, D]   \n",
      " 21  APERTURE_Q9    1 ImageHDU        10   (100, 159)   uint8   \n",
      " 22  LIGHTCURVE_Q10    1 BinTableHDU     63   4442R x 13C   [J, D, D, D, D, D, D, D, J, D, D, D, D]   \n",
      " 23  APERTURE_Q10    1 ImageHDU        10   (13, 127)   uint8   \n",
      " 24  LIGHTCURVE_Q11    1 BinTableHDU     63   4474R x 13C   [J, D, D, D, D, D, D, D, J, D, D, D, D]   \n",
      " 25  APERTURE_Q11    1 ImageHDU        10   (15, 283)   uint8   \n",
      " 26  LIGHTCURVE_Q12    1 BinTableHDU     63   3892R x 13C   [J, D, D, D, D, D, D, D, J, D, D, D, D]   \n",
      " 27  APERTURE_Q12    1 ImageHDU        10   (15, 283)   uint8   \n",
      " 28  LIGHTCURVE_Q13    1 BinTableHDU     63   4244R x 13C   [J, D, D, D, D, D, D, D, J, D, D, D, D]   \n",
      " 29  APERTURE_Q13    1 ImageHDU        10   (100, 144)   uint8   \n",
      " 30  LIGHTCURVE_Q14    1 BinTableHDU     63   4270R x 13C   [J, D, D, D, D, D, D, D, J, D, D, D, D]   \n",
      " 31  APERTURE_Q14    1 ImageHDU        10   (13, 127)   uint8   \n",
      " 32  LIGHTCURVE_Q15    1 BinTableHDU     63   4367R x 13C   [J, D, D, D, D, D, D, D, J, D, D, D, D]   \n",
      " 33  APERTURE_Q15    1 ImageHDU        10   (15, 283)   uint8   \n",
      " 34  LIGHTCURVE_Q16    1 BinTableHDU     63   3535R x 13C   [J, D, D, D, D, D, D, D, J, D, D, D, D]   \n",
      " 35  APERTURE_Q16    1 ImageHDU        10   (15, 283)   uint8   \n",
      " 36  LIGHTCURVE_Q17    1 BinTableHDU     63   1290R x 13C   [J, D, D, D, D, D, D, D, J, D, D, D, D]   \n",
      " 37  APERTURE_Q17    1 ImageHDU        10   (100, 144)   uint8   \n"
     ]
    }
   ],
   "source": [
    "hdul = fits.open(\"https://archive.stsci.edu/hlsps/kbonus-bkg/lcs/2051/2051766354744241536/hlsp_kbonus-bkg_kepler_kepler_gaia-dr3-2051766354744241536_kepler_v1.0_lc.fits\")\n",
    "hdul.info()"
   ]
  },
  {
   "cell_type": "markdown",
   "id": "b3a31cb6-5b72-4486-b3d8-55140bd84b9c",
   "metadata": {},
   "source": [
    "The keyword `\"QDETECT\"` has an 18-long string (1 per quarter) with `0` if no PSF detection, `1` if `PSFFRAC > 0.5`, and `2` if `PSFFRAC<0.5`. Only quarters with `1` are stitched. This is useful to check when a source has been detected and if that quarter data was used for stitching."
   ]
  },
  {
   "cell_type": "code",
   "execution_count": 21,
   "id": "e7c620c5-a124-4774-af44-8edf399db8e5",
   "metadata": {},
   "outputs": [
    {
     "data": {
      "text/plain": [
       "'111111111111111112'"
      ]
     },
     "execution_count": 21,
     "metadata": {},
     "output_type": "execute_result"
    }
   ],
   "source": [
    "hdul[\"PRIMARY\"].header[\"QDETECT\"]"
   ]
  },
  {
   "cell_type": "markdown",
   "id": "564ff071-6f0a-4030-95b2-1afebfb749fe",
   "metadata": {},
   "source": [
    "In this case all quarters have `1` but quarter 17 (last one) which has a `2` meaning partial pixel data was used to fit do PSF photometry and could be low quality. Then the rows that correspond to quarter 17 in the stitched light curve are blank for the PSF photmetry columns"
   ]
  },
  {
   "cell_type": "code",
   "execution_count": 47,
   "id": "c4c74444-1167-47b1-be65-3198af98ccef",
   "metadata": {},
   "outputs": [
    {
     "data": {
      "text/html": [
       "<div><i>Table length=5</i>\n",
       "<table id=\"table5113921152\" class=\"table-striped table-bordered table-condensed\">\n",
       "<thead><tr><th>TIME</th><th>CADENCENO</th><th>QUARTER</th><th>FLUX</th><th>FLUX_ERR</th><th>SAP_FLUX</th><th>SAP_FLUX_ERR</th><th>PSF_FLAT_FLUX</th><th>PSF_FLAT_FLUX_ERR</th><th>SAP_QUALITY</th><th>FLATTEN_MASK</th></tr></thead>\n",
       "<thead><tr><th>float64</th><th>int32</th><th>int64</th><th>float64</th><th>float64</th><th>float64</th><th>float64</th><th>float64</th><th>float64</th><th>int32</th><th>int32</th></tr></thead>\n",
       "<tr><td>1557.9384321370162</td><td>70913</td><td>16</td><td>70573.134480144</td><td>3.8212731352363294</td><td>65067.29798221754</td><td>7.219687527783014</td><td>70452.13697580327</td><td>4.002641870109293</td><td>128</td><td>0</td></tr>\n",
       "<tr><td>1557.9588665426709</td><td>70914</td><td>16</td><td>70544.53096341126</td><td>3.819104716042227</td><td>65132.944760782804</td><td>7.221658421609254</td><td>70418.0530253074</td><td>4.035495852740489</td><td>0</td><td>0</td></tr>\n",
       "<tr><td>1559.2257784404792</td><td>70976</td><td>17</td><td>nan</td><td>nan</td><td>65297.13222754753</td><td>9.097476060936833</td><td>nan</td><td>nan</td><td>0</td><td>0</td></tr>\n",
       "<tr><td>1559.2462127641775</td><td>70977</td><td>17</td><td>nan</td><td>nan</td><td>65370.01541602101</td><td>9.101001107048047</td><td>nan</td><td>nan</td><td>0</td><td>0</td></tr>\n",
       "<tr><td>1559.266647187993</td><td>70978</td><td>17</td><td>nan</td><td>nan</td><td>65262.62563213866</td><td>9.09621512143301</td><td>nan</td><td>nan</td><td>8320</td><td>8320</td></tr>\n",
       "</table></div>"
      ],
      "text/plain": [
       "<Table length=5>\n",
       "       TIME        CADENCENO QUARTER        FLUX       ... PSF_FLAT_FLUX_ERR SAP_QUALITY FLATTEN_MASK\n",
       "     float64         int32    int64       float64      ...      float64         int32       int32    \n",
       "------------------ --------- ------- ----------------- ... ----------------- ----------- ------------\n",
       "1557.9384321370162     70913      16   70573.134480144 ... 4.002641870109293         128            0\n",
       "1557.9588665426709     70914      16 70544.53096341126 ... 4.035495852740489           0            0\n",
       "1559.2257784404792     70976      17               nan ...               nan           0            0\n",
       "1559.2462127641775     70977      17               nan ...               nan           0            0\n",
       " 1559.266647187993     70978      17               nan ...               nan        8320         8320"
      ]
     },
     "execution_count": 47,
     "metadata": {},
     "output_type": "execute_result"
    }
   ],
   "source": [
    "Table(hdul[\"LIGHTCURVE_STITCHED\"].data)[63990:63995]"
   ]
  },
  {
   "cell_type": "markdown",
   "id": "ac31756d-e92c-467e-8c7a-cd4138bced9b",
   "metadata": {},
   "source": [
    "But you can still access Q 17 data in the corresponding HDU extension"
   ]
  },
  {
   "cell_type": "code",
   "execution_count": 50,
   "id": "66fe9997-6026-4338-8669-80f809df25d9",
   "metadata": {},
   "outputs": [
    {
     "data": {
      "text/plain": [
       "0.004945018715731771"
      ]
     },
     "execution_count": 50,
     "metadata": {},
     "output_type": "execute_result"
    }
   ],
   "source": [
    "hdul[\"LIGHTCURVE_Q17\"].header[\"PSFFRAC\"]"
   ]
  },
  {
   "cell_type": "code",
   "execution_count": 49,
   "id": "84b83fe2-032e-49ea-bf21-3ecc5b8368d0",
   "metadata": {},
   "outputs": [
    {
     "data": {
      "text/html": [
       "<div><i>Table length=1290</i>\n",
       "<table id=\"table5122586752\" class=\"table-striped table-bordered table-condensed\">\n",
       "<thead><tr><th>CADENCENO</th><th>TIME</th><th>FLUX</th><th>FLUX_ERR</th><th>SAP_FLUX</th><th>SAP_FLUX_ERR</th><th>CENTROID_COLUMN</th><th>CENTROID_ROW</th><th>SAP_QUALITY</th><th>SAP_BKG</th><th>RED_CHI2</th><th>PSF_FLUX_NOVA</th><th>PSF_FLUX_ERR_NOVA</th></tr></thead>\n",
       "<thead><tr><th>int32</th><th>float64</th><th>float64</th><th>float64</th><th>float64</th><th>float64</th><th>float64</th><th>float64</th><th>int32</th><th>float64</th><th>float64</th><th>float64</th><th>float64</th></tr></thead>\n",
       "<tr><td>70976</td><td>1559.2257784404792</td><td>59992.34836278086</td><td>6.307520626279437</td><td>83934.5625</td><td>9.05512809753418</td><td>517.923380587951</td><td>488.34535926787044</td><td>0</td><td>2968.363525390625</td><td>3490970.897407331</td><td>53097.711650794496</td><td>5.875478414871276</td></tr>\n",
       "<tr><td>...</td><td>...</td><td>...</td><td>...</td><td>...</td><td>...</td><td>...</td><td>...</td><td>...</td><td>...</td><td>...</td><td>...</td><td>...</td></tr>\n",
       "<tr><td>72530</td><td>1590.9810741688125</td><td>44394.93316384949</td><td>5.405614433799843</td><td>96521.9609375</td><td>9.484403610229492</td><td>517.9425648110227</td><td>488.36117368921396</td><td>128</td><td>2512.904296875</td><td>5026911.895235132</td><td>59323.522504357556</td><td>6.072948452795919</td></tr>\n",
       "<tr><td>72531</td><td>1591.0015089050867</td><td>44945.24978767853</td><td>5.425995001713836</td><td>96311.4609375</td><td>9.477392196655273</td><td>517.9422934491499</td><td>488.3612976682722</td><td>0</td><td>2513.47607421875</td><td>4981247.715385974</td><td>59276.31027053693</td><td>6.070520899236365</td></tr>\n",
       "</table></div>"
      ],
      "text/plain": [
       "<Table length=1290>\n",
       "CADENCENO        TIME               FLUX       ...      RED_CHI2       PSF_FLUX_NOVA    PSF_FLUX_ERR_NOVA\n",
       "  int32        float64            float64      ...      float64           float64            float64     \n",
       "--------- ------------------ ----------------- ... ----------------- ------------------ -----------------\n",
       "    70976 1559.2257784404792 59992.34836278086 ... 3490970.897407331 53097.711650794496 5.875478414871276\n",
       "      ...                ...               ... ...               ...                ...               ...\n",
       "    72530 1590.9810741688125 44394.93316384949 ... 5026911.895235132 59323.522504357556 6.072948452795919\n",
       "    72531 1591.0015089050867 44945.24978767853 ... 4981247.715385974  59276.31027053693 6.070520899236365"
      ]
     },
     "execution_count": 49,
     "metadata": {},
     "output_type": "execute_result"
    }
   ],
   "source": [
    "Table(hdul[\"LIGHTCURVE_Q17\"].data)"
   ]
  },
  {
   "cell_type": "markdown",
   "id": "f35f6b79-fb1d-4855-9a75-5db5da4ed90f",
   "metadata": {},
   "source": [
    "Here is another case:"
   ]
  },
  {
   "cell_type": "code",
   "execution_count": 63,
   "id": "e0eb43df-f2b4-480a-aa78-40050433201c",
   "metadata": {},
   "outputs": [
    {
     "name": "stderr",
     "output_type": "stream",
     "text": [
      "/Users/jorgemarpa/Work/public_repos/lightkurve/src/lightkurve/search.py:480: LightkurveWarning: Warning: 19 files available to download. Only the first file has been downloaded. Please use `download_all()` or specify additional criteria (e.g. quarter, campaign, or sector) to limit your search.\n",
      "  warnings.warn(\n",
      "PSF Fraction is low, indicating not all of the flux is captured in the PSF model. This data may be unreliable.\n"
     ]
    },
    {
     "data": {
      "text/html": [
       "<div><i>KeplerLightCurve length=469 LABEL=&quot;KIC 12785454&quot; AUTHOR=KBONUS-BKG FLUX_ORIGIN=flux</i>\n",
       "<table id=\"table5123528304\" class=\"table-striped table-bordered table-condensed\">\n",
       "<thead><tr><th>time</th><th>flux</th><th>flux_err</th><th>cadenceno</th><th>quarter</th><th>sap_flux</th><th>sap_flux_err</th><th>psf_flat_flux</th><th>psf_flat_flux_err</th><th>sap_quality</th><th>flatten_mask</th></tr></thead>\n",
       "<thead><tr><th></th><th>electron / s</th><th>electron / s</th><th></th><th></th><th>electron / s</th><th>electron / s</th><th>electron / s</th><th>electron / s</th><th></th><th></th></tr></thead>\n",
       "<thead><tr><th>Time</th><th>float64</th><th>float64</th><th>int32</th><th>int64</th><th>float64</th><th>float64</th><th>float64</th><th>float64</th><th>int32</th><th>int32</th></tr></thead>\n",
       "<tr><td>120.53883484611288</td><td>———</td><td>———</td><td>568</td><td>0</td><td>2580.7904952848494</td><td>1.829539107554908</td><td>———</td><td>———</td><td>0</td><td>0</td></tr>\n",
       "<tr><td>...</td><td>...</td><td>...</td><td>...</td><td>...</td><td>...</td><td>...</td><td>...</td><td>...</td><td>...</td><td>...</td></tr>\n",
       "<tr><td>130.24507382605225</td><td>———</td><td>———</td><td>1043</td><td>0</td><td>2576.598060949575</td><td>1.836613058506873</td><td>———</td><td>———</td><td>0</td><td>0</td></tr>\n",
       "</table></div>"
      ],
      "text/plain": [
       "<KeplerLightCurve length=469 LABEL=\"KIC 12785454\" AUTHOR=KBONUS-BKG FLUX_ORIGIN=flux>\n",
       "       time            flux       flux_err   cadenceno ... psf_flat_flux psf_flat_flux_err sap_quality flatten_mask\n",
       "                   electron / s electron / s           ...  electron / s    electron / s                           \n",
       "       Time          float64      float64      int32   ...    float64         float64         int32       int32    \n",
       "------------------ ------------ ------------ --------- ... ------------- ----------------- ----------- ------------\n",
       "120.53883484611288          ———          ———       568 ...           ———               ———           0            0\n",
       "               ...          ...          ...       ... ...           ...               ...         ...          ...\n",
       "130.24507382605225          ———          ———      1043 ...           ———               ———           0            0"
      ]
     },
     "execution_count": 63,
     "metadata": {},
     "output_type": "execute_result"
    }
   ],
   "source": [
    "lc = lk.search_lightcurve(\"290.578158 +52.001121\", mission=\"Kepler\", author=\"KBONUS-BKG\").download()\n",
    "lc"
   ]
  },
  {
   "cell_type": "code",
   "execution_count": 64,
   "id": "1eae46c0-f246-4991-a4d1-e7c5e14d257b",
   "metadata": {},
   "outputs": [
    {
     "data": {
      "text/plain": [
       "{'EXTNAME': 'PRIMARY',\n",
       " 'CHECKSUM': 'BViDBVgABVgABVgA',\n",
       " 'DATASUM': '0',\n",
       " 'SIMPLE': True,\n",
       " 'BITPIX': 8,\n",
       " 'NAXIS': 0,\n",
       " 'EXTEND': True,\n",
       " 'NEXTEND': 2,\n",
       " 'EXTVER': 1,\n",
       " 'DOI': '10.17909/7jbr-w430',\n",
       " 'HLSPID': 'KBONUS-BKG',\n",
       " 'HLSPLEAD': 'Jorge martinez-Palomera',\n",
       " 'HLSPVER': 'V1.0',\n",
       " 'LICENSE': 'CC BY 4.0',\n",
       " 'LICENURL': 'https://creativecommons.org/licenses/by/4.0/',\n",
       " 'ORIGIN': 'PSFMACHINE',\n",
       " 'DATE': '2022-09-05',\n",
       " 'CREATOR': 'lightkurve.LightCurve.to_fits()',\n",
       " 'TELESCOP': 'Kepler',\n",
       " 'INSTRUME': 'Kepler Photometer',\n",
       " 'FILTER': 'KEPLER',\n",
       " 'TIMESYS': 'TDB',\n",
       " 'OBJECT': 'KIC 12785454',\n",
       " 'KEPLERID': 12785454,\n",
       " 'RADESYS': 'ICRS',\n",
       " 'RA_OBJ': 290.578157681737,\n",
       " 'DEC_OBJ': 52.00112124914597,\n",
       " 'EQUINOX': 2016.0,\n",
       " 'PROCVER': '2.0.9',\n",
       " 'VERSION': '1.1.2',\n",
       " 'APERTURE': 'PSF + SAP',\n",
       " 'MISSION': 'Kepler',\n",
       " 'OBSMODE': 'long cadence',\n",
       " 'XPOSURE': 1765.464,\n",
       " 'MJD-BEG': 54953.03907252848,\n",
       " 'MJD-END': 56423.50139254052,\n",
       " 'LABEL': 'KIC 12785454',\n",
       " 'TARGETID': 'Gaia DR3 2139265971112336000',\n",
       " 'KEPMAG': 14.5609998703003,\n",
       " 'TPFORG': 12737192,\n",
       " 'GAIAID': 'Gaia DR3 2139265971112336000',\n",
       " 'PMRA': -0.00791044985590263,\n",
       " 'PMDEC': -0.00487775709220273,\n",
       " 'PARALLAX': 0.9260800069288692,\n",
       " 'GMAG': 14.49019813537598,\n",
       " 'RPMAG': 13.95846080780029,\n",
       " 'BPMAG': 14.85156631469727,\n",
       " 'QDETECT': '200000000000000000',\n",
       " 'RA': 290.578157681737,\n",
       " 'DEC': 52.00112124914597,\n",
       " 'FILENAME': '/Users/jorgemarpa/.lightkurve/cache/mastDownload/HLSP/hlsp_kbonus-bkg_kepler_kepler_kic-012785454_kepler_v1.0/hlsp_kbonus-bkg_kepler_kepler_kic-012785454_kepler_v1.0_lc.fits',\n",
       " 'FLUX_ORIGIN': 'flux',\n",
       " 'AUTHOR': 'KBONUS-BKG',\n",
       " 'QUALITY_BITMASK': 'default'}"
      ]
     },
     "execution_count": 64,
     "metadata": {},
     "output_type": "execute_result"
    }
   ],
   "source": [
    "lc.meta"
   ]
  },
  {
   "cell_type": "markdown",
   "id": "205fe338-4b75-4909-80fe-bc09efcf76b9",
   "metadata": {},
   "source": [
    "Now KIC 12785454 was only detected in Q0 and with a PSF fraction < 10%. Let's check Q0 ligth curve"
   ]
  },
  {
   "cell_type": "code",
   "execution_count": 62,
   "id": "4e00f008-4623-4a82-bee2-710ace306ba4",
   "metadata": {},
   "outputs": [
    {
     "name": "stderr",
     "output_type": "stream",
     "text": [
      "PSF Fraction is low, indicating not all of the flux is captured in the PSF model. This data may be unreliable.\n"
     ]
    },
    {
     "data": {
      "text/html": [
       "<div><i>KeplerLightCurve length=469 LABEL=&quot;KIC 12785454&quot; QUARTER=0 AUTHOR=KBONUS-BKG FLUX_ORIGIN=flux</i>\n",
       "<table id=\"table5151798368\" class=\"table-striped table-bordered table-condensed\">\n",
       "<thead><tr><th>time</th><th>flux</th><th>flux_err</th><th>cadenceno</th><th>sap_flux</th><th>centroid_col</th><th>sap_flux_err</th><th>centroid_column</th><th>centroid_row</th><th>sap_quality</th><th>sap_bkg</th><th>red_chi2</th><th>psf_flux_nova</th><th>psf_flux_err_nova</th></tr></thead>\n",
       "<thead><tr><th></th><th>electron / s</th><th>electron / s</th><th></th><th>electron / s</th><th>pix</th><th>electron / s</th><th>pix</th><th>pix</th><th></th><th></th><th></th><th>electron / s</th><th>electron / s</th></tr></thead>\n",
       "<thead><tr><th>Time</th><th>float64</th><th>float64</th><th>int32</th><th>float64</th><th>float64</th><th>float64</th><th>float64</th><th>float64</th><th>int32</th><th>float64</th><th>float64</th><th>float64</th><th>float64</th></tr></thead>\n",
       "<tr><td>120.53883484611288</td><td>31887.98342857861</td><td>12.090962387191295</td><td>568</td><td>2567.759765625</td><td>45.06559045423762</td><td>1.8064988851547241</td><td>45.06559045423762</td><td>527.4526073079362</td><td>0</td><td>166.02459716796875</td><td>0.0356540572843177</td><td>31685.645533284674</td><td>12.01423186530004</td></tr>\n",
       "<tr><td>...</td><td>...</td><td>...</td><td>...</td><td>...</td><td>...</td><td>...</td><td>...</td><td>...</td><td>...</td><td>...</td><td>...</td><td>...</td><td>...</td></tr>\n",
       "<tr><td>130.24507382605225</td><td>31838.726684815876</td><td>11.996584636222373</td><td>1043</td><td>2587.980224609375</td><td>45.06051799632405</td><td>1.8093091249465942</td><td>45.06051799632405</td><td>527.4500294121044</td><td>0</td><td>161.2256622314453</td><td>0.03493957607270248</td><td>31935.14508137068</td><td>12.032919110991761</td></tr>\n",
       "</table></div>"
      ],
      "text/plain": [
       "<KeplerLightCurve length=469 LABEL=\"KIC 12785454\" QUARTER=0 AUTHOR=KBONUS-BKG FLUX_ORIGIN=flux>\n",
       "       time               flux             flux_err      ...       red_chi2        psf_flux_nova    psf_flux_err_nova \n",
       "                      electron / s       electron / s    ...                        electron / s       electron / s   \n",
       "       Time             float64            float64       ...       float64            float64            float64      \n",
       "------------------ ------------------ ------------------ ... ------------------- ------------------ ------------------\n",
       "120.53883484611288  31887.98342857861 12.090962387191295 ...  0.0356540572843177 31685.645533284674  12.01423186530004\n",
       "               ...                ...                ... ...                 ...                ...                ...\n",
       "130.24507382605225 31838.726684815876 11.996584636222373 ... 0.03493957607270248  31935.14508137068 12.032919110991761"
      ]
     },
     "execution_count": 62,
     "metadata": {},
     "output_type": "execute_result"
    }
   ],
   "source": [
    "lcq = lk.search_lightcurve(\"290.578158 +52.001121\", mission=\"Kepler\", author=\"KBONUS-BKG\")[1].download()\n",
    "lcq"
   ]
  },
  {
   "cell_type": "code",
   "execution_count": 67,
   "id": "b1624d76-34eb-49fb-bdc6-d663715f7c30",
   "metadata": {},
   "outputs": [
    {
     "data": {
      "text/plain": [
       "0.08461206273357356"
      ]
     },
     "execution_count": 67,
     "metadata": {},
     "output_type": "execute_result"
    }
   ],
   "source": [
    "fits.open(lcq.filename)[2].header[\"PSFFRAC\"]"
   ]
  },
  {
   "cell_type": "code",
   "execution_count": null,
   "id": "345cf768-188e-486c-9fac-1d96138f530c",
   "metadata": {},
   "outputs": [],
   "source": []
  }
 ],
 "metadata": {
  "kernelspec": {
   "display_name": "lightkurve-test",
   "language": "python",
   "name": "lightkurve-test"
  },
  "language_info": {
   "codemirror_mode": {
    "name": "ipython",
    "version": 3
   },
   "file_extension": ".py",
   "mimetype": "text/x-python",
   "name": "python",
   "nbconvert_exporter": "python",
   "pygments_lexer": "ipython3",
   "version": "3.9.18"
  }
 },
 "nbformat": 4,
 "nbformat_minor": 5
}
